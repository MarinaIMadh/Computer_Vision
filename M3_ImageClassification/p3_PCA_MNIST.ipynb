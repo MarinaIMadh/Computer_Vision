{
  "nbformat": 4,
  "nbformat_minor": 0,
  "metadata": {
    "colab": {
      "name": "PCA_MNIST.ipynb",
      "provenance": [],
      "include_colab_link": true
    },
    "kernelspec": {
      "name": "python3",
      "display_name": "Python 3"
    },
    "language_info": {
      "name": "python"
    }
  },
  "cells": [
    {
      "cell_type": "markdown",
      "metadata": {
        "id": "view-in-github",
        "colab_type": "text"
      },
      "source": [
        "<a href=\"https://colab.research.google.com/github/xtianu/CV_Tirana/blob/main/M3_Image%20Classification/p3_PCA_MNIST.ipynb\" target=\"_parent\"><img src=\"https://colab.research.google.com/assets/colab-badge.svg\" alt=\"Open In Colab\"/></a>"
      ]
    },
    {
      "cell_type": "markdown",
      "source": [
        "\n",
        "# MODULE 3: IMAGE CLASSIFICATION\n",
        "\n",
        "Christian Mata, PhD\n"
      ],
      "metadata": {
        "id": "0uqBgE_X2lGr"
      }
    },
    {
      "cell_type": "markdown",
      "source": [
        "## Pattern Recognition in digital images\n",
        "\n",
        "This notebook will guide you through three different approaches do recognize patterns in digital images:\n",
        "\n",
        "2. Face recognition using PCA features: USe PCA in order to extract meaningful features that allow classifying images to recognize faces.\n"
      ],
      "metadata": {
        "id": "PdrCsG1128cs"
      }
    },
    {
      "cell_type": "markdown",
      "source": [
        "# PART 2: Face Recognition\n",
        "### Load MNIST dataset"
      ],
      "metadata": {
        "id": "9S8QTwlVAqo5"
      }
    },
    {
      "cell_type": "code",
      "execution_count": 4,
      "metadata": {
        "id": "aQgnX0pl_tEq"
      },
      "outputs": [],
      "source": [
        "import numpy as np\n",
        "from tensorflow import keras\n",
        "from tensorflow.keras import layers\n",
        "\n",
        "# Load data, split between train and test sets\n",
        "(x_train, y_train), (x_test, y_test) = keras.datasets.mnist.load_data()\n",
        "\n",
        "# Scale images to the [0, 1] range\n",
        "x_train = x_train.astype(\"float32\") / 255\n",
        "x_test = x_test.astype(\"float32\") / 255"
      ]
    },
    {
      "cell_type": "markdown",
      "source": [
        "# Visualize sample images and class"
      ],
      "metadata": {
        "id": "wAX_LNb7Cq1o"
      }
    },
    {
      "cell_type": "code",
      "source": [
        "import matplotlib.pyplot as plt\n",
        "\n",
        "k = 112\n",
        "plt.imshow(x_train[k])\n",
        "plt.title('Image {} class label {}'.format(k, y_train[k]))"
      ],
      "metadata": {
        "colab": {
          "base_uri": "https://localhost:8080/",
          "height": 469
        },
        "id": "ykAPkZmZCHL2",
        "outputId": "cd7e15ec-77da-44e5-faa1-ca6e2c038eb9"
      },
      "execution_count": 5,
      "outputs": [
        {
          "output_type": "execute_result",
          "data": {
            "text/plain": [
              "Text(0.5, 1.0, 'Image 112\\xa0class label 1')"
            ]
          },
          "metadata": {},
          "execution_count": 5
        },
        {
          "output_type": "display_data",
          "data": {
            "text/plain": [
              "<Figure size 640x480 with 1 Axes>"
            ],
            "image/png": "[encoded data removed]"
          },
          "metadata": {}
        }
      ]
    },
    {
      "cell_type": "code",
      "source": [
        "x_train.shape"
      ],
      "metadata": {
        "colab": {
          "base_uri": "https://localhost:8080/"
        },
        "id": "k0rgvKK9BPLD",
        "outputId": "1037e7b1-3c44-4a71-defe-043ee5aa92eb"
      },
      "execution_count": 6,
      "outputs": [
        {
          "output_type": "execute_result",
          "data": {
            "text/plain": [
              "(60000, 28, 28)"
            ]
          },
          "metadata": {},
          "execution_count": 6
        }
      ]
    },
    {
      "cell_type": "markdown",
      "source": [
        "# Flatten/reshape images"
      ],
      "metadata": {
        "id": "WqyMnGSBAtLX"
      }
    },
    {
      "cell_type": "code",
      "source": [
        "X_train = x_train.reshape(x_train.shape[0],x_train.shape[1]*x_train.shape[2])\n",
        "X_test = x_test.reshape(x_test.shape[0],x_test.shape[1]*x_test.shape[2])\n",
        "X_train.shape"
      ],
      "metadata": {
        "colab": {
          "base_uri": "https://localhost:8080/"
        },
        "id": "GQLSG0mA_0c-",
        "outputId": "11bbcf06-a1ef-4dbc-d662-a3aed12dffe7"
      },
      "execution_count": 7,
      "outputs": [
        {
          "output_type": "execute_result",
          "data": {
            "text/plain": [
              "(60000, 784)"
            ]
          },
          "metadata": {},
          "execution_count": 7
        }
      ]
    },
    {
      "cell_type": "markdown",
      "source": [
        "# Perform PCA dimensionality reduction/feature extraction"
      ],
      "metadata": {
        "id": "zSoQ9jO7Axpw"
      }
    },
    {
      "cell_type": "code",
      "source": [
        "from sklearn.decomposition import PCA\n",
        "\n",
        "n_components = 150\n",
        "\n",
        "print(\"Extracting the top %d eigenfaces from %d faces\"\n",
        "      % (n_components, X_train.shape[0]))\n",
        "pca = PCA(n_components=n_components, svd_solver='randomized',\n",
        "          whiten=True).fit(X_train)\n",
        "\n",
        "\n",
        "eigenfaces = pca.components_.reshape((n_components,x_train.shape[1],x_train.shape[2]))\n",
        "\n",
        "print(\"PCA projection of the images\")\n",
        "X_train_pca = pca.transform(X_train)\n",
        "X_test_pca = pca.transform(X_test)"
      ],
      "metadata": {
        "colab": {
          "base_uri": "https://localhost:8080/"
        },
        "id": "ZumQCUL5_t7q",
        "outputId": "8b40c1a6-f8ee-4cae-c30d-8fbb5dc6e343"
      },
      "execution_count": 8,
      "outputs": [
        {
          "output_type": "stream",
          "name": "stdout",
          "text": [
            "Extracting the top 150 eigenfaces from 60000 faces\n",
            "PCA projection of the images\n"
          ]
        }
      ]
    },
    {
      "cell_type": "code",
      "source": [
        "eigenfaces.shape"
      ],
      "metadata": {
        "colab": {
          "base_uri": "https://localhost:8080/"
        },
        "id": "H-tG8addDyd1",
        "outputId": "e45774a0-211d-4bf3-ed41-cf1659a40fbd"
      },
      "execution_count": 9,
      "outputs": [
        {
          "output_type": "execute_result",
          "data": {
            "text/plain": [
              "(150, 28, 28)"
            ]
          },
          "metadata": {},
          "execution_count": 9
        }
      ]
    },
    {
      "cell_type": "markdown",
      "source": [
        "Visualize an eigenface"
      ],
      "metadata": {
        "id": "4UQgaFqjDtFC"
      }
    },
    {
      "cell_type": "code",
      "source": [
        "k = 0\n",
        "plt.imshow(eigenfaces[k])\n",
        "plt.title('Eigenface {}'.format(k))"
      ],
      "metadata": {
        "colab": {
          "base_uri": "https://localhost:8080/",
          "height": 469
        },
        "id": "CNPgpVzQDvPS",
        "outputId": "bc48dd8a-9f6d-4900-eab0-df01b3f7bca4"
      },
      "execution_count": 11,
      "outputs": [
        {
          "output_type": "execute_result",
          "data": {
            "text/plain": [
              "Text(0.5, 1.0, 'Eigenface 0')"
            ]
          },
          "metadata": {},
          "execution_count": 11
        },
        {
          "output_type": "display_data",
          "data": {
            "text/plain": [
              "<Figure size 640x480 with 1 Axes>"
            ],
            "image/png": "[encoded data removed]"
          },
          "metadata": {}
        }
      ]
    },
    {
      "cell_type": "code",
      "source": [
        "np.where(pca.explained_variance_ratio_.cumsum()>0.9)"
      ],
      "metadata": {
        "colab": {
          "base_uri": "https://localhost:8080/"
        },
        "id": "VzR5iPTwAOMg",
        "outputId": "b095ea71-1357-4442-e366-d0536c8faa5c"
      },
      "execution_count": 12,
      "outputs": [
        {
          "output_type": "execute_result",
          "data": {
            "text/plain": [
              "(array([ 86,  87,  88,  89,  90,  91,  92,  93,  94,  95,  96,  97,  98,\n",
              "         99, 100, 101, 102, 103, 104, 105, 106, 107, 108, 109, 110, 111,\n",
              "        112, 113, 114, 115, 116, 117, 118, 119, 120, 121, 122, 123, 124,\n",
              "        125, 126, 127, 128, 129, 130, 131, 132, 133, 134, 135, 136, 137,\n",
              "        138, 139, 140, 141, 142, 143, 144, 145, 146, 147, 148, 149]),)"
            ]
          },
          "metadata": {},
          "execution_count": 12
        }
      ]
    },
    {
      "cell_type": "markdown",
      "source": [
        "# Fit a Classifier and evaluate performance"
      ],
      "metadata": {
        "id": "FO1VAL9vA2Xh"
      }
    },
    {
      "cell_type": "code",
      "source": [
        "from sklearn.discriminant_analysis import LinearDiscriminantAnalysis\n",
        "from sklearn.metrics import classification_report\n",
        "from sklearn.metrics import confusion_matrix\n",
        "\n",
        "lda = LinearDiscriminantAnalysis()\n",
        "lda = lda.fit(X_train_pca, y_train)\n",
        "y_pred_lda = lda.predict(X_test_pca)\n",
        "print(classification_report(y_test, y_pred_lda))\n",
        "print(confusion_matrix(y_test, y_pred_lda, labels=range(10)))"
      ],
      "metadata": {
        "colab": {
          "base_uri": "https://localhost:8080/"
        },
        "id": "10wBle66Aagn",
        "outputId": "3a70d79a-7926-4136-bfa8-28ed6a1b200c"
      },
      "execution_count": 13,
      "outputs": [
        {
          "output_type": "stream",
          "name": "stdout",
          "text": [
            "              precision    recall  f1-score   support\n",
            "\n",
            "           0       0.94      0.94      0.94       980\n",
            "           1       0.89      0.96      0.92      1135\n",
            "           2       0.92      0.81      0.86      1032\n",
            "           3       0.88      0.87      0.87      1010\n",
            "           4       0.86      0.91      0.88       982\n",
            "           5       0.82      0.80      0.81       892\n",
            "           6       0.91      0.91      0.91       958\n",
            "           7       0.91      0.84      0.87      1028\n",
            "           8       0.81      0.81      0.81       974\n",
            "           9       0.81      0.88      0.84      1009\n",
            "\n",
            "    accuracy                           0.87     10000\n",
            "   macro avg       0.87      0.87      0.87     10000\n",
            "weighted avg       0.88      0.87      0.87     10000\n",
            "\n",
            "[[ 922    1    2    2    2   28   13    2    7    1]\n",
            " [   0 1089    3    2    1    3    4    1   31    1]\n",
            " [  15   33  834   30   22    5   22   12   52    7]\n",
            " [   4    6   28  878    4   33    3   19   24   11]\n",
            " [   0   11    4    0  890    3    9    1    8   56]\n",
            " [  12   11    5   46   11  713   18   16   41   19]\n",
            " [  10    7    6    0   22   26  875    0   12    0]\n",
            " [   2   31   16    7   15    2    2  866    5   82]\n",
            " [   5   30    8   27   17   49   12   10  785   31]\n",
            " [  10    7    2   11   49    6    2   26    9  887]]\n"
          ]
        }
      ]
    }
  ]
}